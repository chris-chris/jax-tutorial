{
  "nbformat": 4,
  "nbformat_minor": 0,
  "metadata": {
    "colab": {
      "name": "JAX Tutorial.ipynb",
      "provenance": [],
      "collapsed_sections": []
    },
    "kernelspec": {
      "name": "python3",
      "display_name": "Python 3"
    },
    "accelerator": "GPU"
  },
  "cells": [
    {
      "cell_type": "code",
      "metadata": {
        "id": "12TM5qL4i3RE",
        "colab_type": "code",
        "outputId": "6ba219a8-f1ca-44e9-ec8b-a09c18d02d7b",
        "colab": {
          "base_uri": "https://localhost:8080/",
          "height": 34
        }
      },
      "source": [
        "%tensorflow_version 2.x"
      ],
      "execution_count": 0,
      "outputs": [
        {
          "output_type": "stream",
          "text": [
            "TensorFlow 2.x selected.\n"
          ],
          "name": "stdout"
        }
      ]
    },
    {
      "cell_type": "code",
      "metadata": {
        "id": "lRmDy8DXi71S",
        "colab_type": "code",
        "outputId": "676bd8b4-79d8-40e0-82be-263c3b7668d1",
        "colab": {
          "base_uri": "https://localhost:8080/",
          "height": 326
        }
      },
      "source": [
        "!pip install --upgrade jax"
      ],
      "execution_count": 0,
      "outputs": [
        {
          "output_type": "stream",
          "text": [
            "Collecting jax\n",
            "\u001b[?25l  Downloading https://files.pythonhosted.org/packages/50/f4/d90107c22334c267ccb64e0ea8039018a4740b5dfad1576dd868aac45254/jax-0.1.59.tar.gz (270kB)\n",
            "\r\u001b[K     |█▏                              | 10kB 26.8MB/s eta 0:00:01\r\u001b[K     |██▍                             | 20kB 6.3MB/s eta 0:00:01\r\u001b[K     |███▋                            | 30kB 8.8MB/s eta 0:00:01\r\u001b[K     |████▉                           | 40kB 5.8MB/s eta 0:00:01\r\u001b[K     |██████                          | 51kB 4.8MB/s eta 0:00:01\r\u001b[K     |███████▎                        | 61kB 5.7MB/s eta 0:00:01\r\u001b[K     |████████▌                       | 71kB 6.2MB/s eta 0:00:01\r\u001b[K     |█████████▊                      | 81kB 7.0MB/s eta 0:00:01\r\u001b[K     |███████████                     | 92kB 7.8MB/s eta 0:00:01\r\u001b[K     |████████████▏                   | 102kB 7.7MB/s eta 0:00:01\r\u001b[K     |█████████████▎                  | 112kB 7.7MB/s eta 0:00:01\r\u001b[K     |██████████████▌                 | 122kB 7.7MB/s eta 0:00:01\r\u001b[K     |███████████████▊                | 133kB 7.7MB/s eta 0:00:01\r\u001b[K     |█████████████████               | 143kB 7.7MB/s eta 0:00:01\r\u001b[K     |██████████████████▏             | 153kB 7.7MB/s eta 0:00:01\r\u001b[K     |███████████████████▍            | 163kB 7.7MB/s eta 0:00:01\r\u001b[K     |████████████████████▋           | 174kB 7.7MB/s eta 0:00:01\r\u001b[K     |█████████████████████▉          | 184kB 7.7MB/s eta 0:00:01\r\u001b[K     |███████████████████████         | 194kB 7.7MB/s eta 0:00:01\r\u001b[K     |████████████████████████▎       | 204kB 7.7MB/s eta 0:00:01\r\u001b[K     |█████████████████████████▍      | 215kB 7.7MB/s eta 0:00:01\r\u001b[K     |██████████████████████████▋     | 225kB 7.7MB/s eta 0:00:01\r\u001b[K     |███████████████████████████▉    | 235kB 7.7MB/s eta 0:00:01\r\u001b[K     |█████████████████████████████   | 245kB 7.7MB/s eta 0:00:01\r\u001b[K     |██████████████████████████████▎ | 256kB 7.7MB/s eta 0:00:01\r\u001b[K     |███████████████████████████████▌| 266kB 7.7MB/s eta 0:00:01\r\u001b[K     |████████████████████████████████| 276kB 7.7MB/s \n",
            "\u001b[?25hRequirement already satisfied, skipping upgrade: numpy>=1.12 in /tensorflow-2.1.0/python3.6 (from jax) (1.18.1)\n",
            "Requirement already satisfied, skipping upgrade: absl-py in /tensorflow-2.1.0/python3.6 (from jax) (0.9.0)\n",
            "Requirement already satisfied, skipping upgrade: opt_einsum in /tensorflow-2.1.0/python3.6 (from jax) (3.1.0)\n",
            "Requirement already satisfied, skipping upgrade: six in /tensorflow-2.1.0/python3.6 (from absl-py->jax) (1.14.0)\n",
            "Building wheels for collected packages: jax\n",
            "  Building wheel for jax (setup.py) ... \u001b[?25l\u001b[?25hdone\n",
            "  Created wheel for jax: filename=jax-0.1.59-cp36-none-any.whl size=314120 sha256=01cc42fb312dfc7360d576e78b1ee72e2349653ea42e201d4b59ddefdc786256\n",
            "  Stored in directory: /root/.cache/pip/wheels/d5/08/51/4cf5b10be26e86c533c2b577a93f7ec8b317bf02a7bb010b8a\n",
            "Successfully built jax\n",
            "Installing collected packages: jax\n",
            "  Found existing installation: jax 0.1.58\n",
            "    Uninstalling jax-0.1.58:\n",
            "      Successfully uninstalled jax-0.1.58\n",
            "Successfully installed jax-0.1.59\n"
          ],
          "name": "stdout"
        }
      ]
    },
    {
      "cell_type": "markdown",
      "metadata": {
        "id": "OpRORJ6tkelE",
        "colab_type": "text"
      },
      "source": [
        "# JAX 1. Numpy Wrapper"
      ]
    },
    {
      "cell_type": "code",
      "metadata": {
        "id": "6ewm5mgFi80g",
        "colab_type": "code",
        "outputId": "84d8b936-a546-4189-c8dd-1b787ab26529",
        "colab": {
          "base_uri": "https://localhost:8080/",
          "height": 34
        }
      },
      "source": [
        "import numpy as np\n",
        "\n",
        "x = np.ones((5000, 5000))\n",
        "y = np.arange(5000)\n",
        "\n",
        "%timeit z = np.sin(x) + np.cos(y)"
      ],
      "execution_count": 0,
      "outputs": [
        {
          "output_type": "stream",
          "text": [
            "1 loop, best of 3: 401 ms per loop\n"
          ],
          "name": "stdout"
        }
      ]
    },
    {
      "cell_type": "code",
      "metadata": {
        "id": "lsjQwMS5jL9K",
        "colab_type": "code",
        "outputId": "2de97392-96a6-4f71-bc80-e5e3906bf6a2",
        "colab": {
          "base_uri": "https://localhost:8080/",
          "height": 34
        }
      },
      "source": [
        "import jax.numpy as jnp\n",
        "x = jnp.ones((5000, 5000))\n",
        "y = jnp.arange(5000)\n",
        "\n",
        "%timeit z = jnp.sin(x) + jnp.cos(y)"
      ],
      "execution_count": 0,
      "outputs": [
        {
          "output_type": "stream",
          "text": [
            "100 loops, best of 3: 2.15 ms per loop\n"
          ],
          "name": "stdout"
        }
      ]
    },
    {
      "cell_type": "markdown",
      "metadata": {
        "id": "2s74k_3ekx5r",
        "colab_type": "text"
      },
      "source": [
        "# JAX 2. JIT Compiler"
      ]
    },
    {
      "cell_type": "code",
      "metadata": {
        "id": "VhD5QzxNjTQo",
        "colab_type": "code",
        "colab": {}
      },
      "source": [
        "from jax import jit\n",
        "import tensorflow as tf\n",
        "\n",
        "@jit\n",
        "def fn(x, y):\n",
        "  z = jnp.sin(x)\n",
        "  w = jnp.cos(y)\n",
        "  return z + w\n",
        "\n",
        "def fn2(x, y):\n",
        "  z = np.sin(x)\n",
        "  w = np.cos(y)\n",
        "  return z + w\n",
        "\n",
        "@tf.function\n",
        "def fn3(x, y):\n",
        "  z = tf.sin(x)\n",
        "  w = tf.cos(y)\n",
        "  return z + w\n",
        "\n",
        "def fn4(x, y):\n",
        "  z = tf.sin(x)\n",
        "  w = tf.cos(y)\n",
        "  return z + w"
      ],
      "execution_count": 0,
      "outputs": []
    },
    {
      "cell_type": "code",
      "metadata": {
        "id": "_ogfbuO_nTaY",
        "colab_type": "code",
        "outputId": "423d77a4-76a1-4ff2-e674-8855fe21b346",
        "colab": {
          "base_uri": "https://localhost:8080/",
          "height": 34
        }
      },
      "source": [
        "jx = jnp.ones((5000, 5000))\n",
        "jy = jnp.ones((5000, 5000))\n",
        "%timeit fn(jx, jy)"
      ],
      "execution_count": 0,
      "outputs": [
        {
          "output_type": "stream",
          "text": [
            "100 loops, best of 3: 2.12 ms per loop\n"
          ],
          "name": "stdout"
        }
      ]
    },
    {
      "cell_type": "code",
      "metadata": {
        "id": "cl1PIhYsnV2q",
        "colab_type": "code",
        "outputId": "4e9f46f1-ebed-4e29-abd9-19df4a0cfde6",
        "colab": {
          "base_uri": "https://localhost:8080/",
          "height": 34
        }
      },
      "source": [
        "x = np.ones((5000, 5000))\n",
        "y = np.ones((5000, 5000))\n",
        "%timeit fn2(x, y)"
      ],
      "execution_count": 0,
      "outputs": [
        {
          "output_type": "stream",
          "text": [
            "1 loop, best of 3: 780 ms per loop\n"
          ],
          "name": "stdout"
        }
      ]
    },
    {
      "cell_type": "code",
      "metadata": {
        "id": "Avtiy3VPncSS",
        "colab_type": "code",
        "outputId": "6aaf00f1-6d5d-46f8-95d6-1aeba9ff5ace",
        "colab": {
          "base_uri": "https://localhost:8080/",
          "height": 71
        }
      },
      "source": [
        "tx = tf.ones((5000, 5000))\n",
        "ty = tf.ones((5000, 5000))\n",
        "%timeit fn3(tx, ty)"
      ],
      "execution_count": 0,
      "outputs": [
        {
          "output_type": "stream",
          "text": [
            "The slowest run took 4.55 times longer than the fastest. This could mean that an intermediate result is being cached.\n",
            "1000 loops, best of 3: 3.36 ms per loop\n"
          ],
          "name": "stdout"
        }
      ]
    },
    {
      "cell_type": "code",
      "metadata": {
        "id": "PeYKw966nv29",
        "colab_type": "code",
        "outputId": "539d0e44-7ffa-481d-fa5b-479e8d751c62",
        "colab": {
          "base_uri": "https://localhost:8080/",
          "height": 34
        }
      },
      "source": [
        "tx = tf.ones((5000, 5000))\n",
        "ty = tf.ones((5000, 5000))\n",
        "%timeit fn4(tx, ty)"
      ],
      "execution_count": 0,
      "outputs": [
        {
          "output_type": "stream",
          "text": [
            "1000 loops, best of 3: 3.36 ms per loop\n"
          ],
          "name": "stdout"
        }
      ]
    },
    {
      "cell_type": "markdown",
      "metadata": {
        "id": "PzodSnzgs1Eu",
        "colab_type": "text"
      },
      "source": [
        "# JAX 3. grad"
      ]
    },
    {
      "cell_type": "code",
      "metadata": {
        "id": "QLyN4sF-ookp",
        "colab_type": "code",
        "colab": {}
      },
      "source": [
        "from jax import grad\n",
        "\n",
        "@jit\n",
        "def simple_fun(x):\n",
        "  return jnp.sin(x) / x"
      ],
      "execution_count": 0,
      "outputs": []
    },
    {
      "cell_type": "code",
      "metadata": {
        "id": "YPQ_q3J_qo6e",
        "colab_type": "code",
        "colab": {}
      },
      "source": [
        "grad_simple_fun = grad(simple_fun)"
      ],
      "execution_count": 0,
      "outputs": []
    },
    {
      "cell_type": "code",
      "metadata": {
        "id": "Hmx864Wrqqkn",
        "colab_type": "code",
        "outputId": "0099c3f6-5242-4825-f67c-3d3108e812dc",
        "colab": {
          "base_uri": "https://localhost:8080/",
          "height": 34
        }
      },
      "source": [
        "%timeit grad_simple_fun(1.0)"
      ],
      "execution_count": 0,
      "outputs": [
        {
          "output_type": "stream",
          "text": [
            "1000 loops, best of 3: 1.22 ms per loop\n"
          ],
          "name": "stdout"
        }
      ]
    },
    {
      "cell_type": "code",
      "metadata": {
        "id": "3NN2Rqr0r-zE",
        "colab_type": "code",
        "outputId": "0143afee-155e-46e9-c11c-48e1117cb8e3",
        "colab": {
          "base_uri": "https://localhost:8080/",
          "height": 187
        }
      },
      "source": [
        "x_range = jnp.arange(10, dtype=jnp.float32)\n",
        "[grad_simple_fun(xi) for xi in x_range]"
      ],
      "execution_count": 0,
      "outputs": [
        {
          "output_type": "execute_result",
          "data": {
            "text/plain": [
              "[DeviceArray(nan, dtype=float32),\n",
              " DeviceArray(-0.30116874, dtype=float32),\n",
              " DeviceArray(-0.43539774, dtype=float32),\n",
              " DeviceArray(-0.3456775, dtype=float32),\n",
              " DeviceArray(-0.11611074, dtype=float32),\n",
              " DeviceArray(0.09508941, dtype=float32),\n",
              " DeviceArray(0.16778992, dtype=float32),\n",
              " DeviceArray(0.09429243, dtype=float32),\n",
              " DeviceArray(-0.03364623, dtype=float32),\n",
              " DeviceArray(-0.10632458, dtype=float32)]"
            ]
          },
          "metadata": {
            "tags": []
          },
          "execution_count": 77
        }
      ]
    },
    {
      "cell_type": "code",
      "metadata": {
        "id": "PcZCALcmqrlk",
        "colab_type": "code",
        "colab": {}
      },
      "source": [
        "grad_grad_simple_fun = grad(grad(simple_fun))"
      ],
      "execution_count": 0,
      "outputs": []
    },
    {
      "cell_type": "code",
      "metadata": {
        "id": "g8kZ-K-Erkfl",
        "colab_type": "code",
        "outputId": "56669dd6-44dd-48ff-dd2d-71d61342cb30",
        "colab": {
          "base_uri": "https://localhost:8080/",
          "height": 71
        }
      },
      "source": [
        "%timeit grad_grad_simple_fun(1.0)"
      ],
      "execution_count": 0,
      "outputs": [
        {
          "output_type": "stream",
          "text": [
            "The slowest run took 93.35 times longer than the fastest. This could mean that an intermediate result is being cached.\n",
            "1 loop, best of 3: 3.19 ms per loop\n"
          ],
          "name": "stdout"
        }
      ]
    },
    {
      "cell_type": "code",
      "metadata": {
        "id": "lNaREYVErlkH",
        "colab_type": "code",
        "outputId": "a19b3fd4-f856-49c1-ef7c-dbe7d8ec2307",
        "colab": {
          "base_uri": "https://localhost:8080/",
          "height": 34
        }
      },
      "source": [
        "grad_grad_simple_fun(1.0)"
      ],
      "execution_count": 0,
      "outputs": [
        {
          "output_type": "execute_result",
          "data": {
            "text/plain": [
              "DeviceArray(-0.23913354, dtype=float32)"
            ]
          },
          "metadata": {
            "tags": []
          },
          "execution_count": 73
        }
      ]
    },
    {
      "cell_type": "code",
      "metadata": {
        "id": "TmyVUJrAsGBZ",
        "colab_type": "code",
        "outputId": "dd01de27-f132-4921-d390-585c75668445",
        "colab": {
          "base_uri": "https://localhost:8080/",
          "height": 187
        }
      },
      "source": [
        "x_range = jnp.arange(10, dtype=jnp.float32)\n",
        "[grad_grad_simple_fun(xi) for xi in x_range]"
      ],
      "execution_count": 0,
      "outputs": [
        {
          "output_type": "execute_result",
          "data": {
            "text/plain": [
              "[DeviceArray(nan, dtype=float32),\n",
              " DeviceArray(-0.23913354, dtype=float32),\n",
              " DeviceArray(-0.01925094, dtype=float32),\n",
              " DeviceArray(0.18341166, dtype=float32),\n",
              " DeviceArray(0.247256, dtype=float32),\n",
              " DeviceArray(0.1537491, dtype=float32),\n",
              " DeviceArray(-0.00936072, dtype=float32),\n",
              " DeviceArray(-0.12079593, dtype=float32),\n",
              " DeviceArray(-0.11525822, dtype=float32),\n",
              " DeviceArray(-0.02216326, dtype=float32)]"
            ]
          },
          "metadata": {
            "tags": []
          },
          "execution_count": 78
        }
      ]
    },
    {
      "cell_type": "code",
      "metadata": {
        "id": "21PcHaMFrmnN",
        "colab_type": "code",
        "colab": {}
      },
      "source": [
        ""
      ],
      "execution_count": 0,
      "outputs": []
    }
  ]
}